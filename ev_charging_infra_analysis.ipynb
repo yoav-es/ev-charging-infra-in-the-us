{
    "cells": [
        {
            "cell_type": "markdown",
            "metadata": {},
            "source": [
                "# Electric Vehicle (EV) Charging Infrastructure in the US\n",
                "## Introduction \n",
                "\n",
                "The adoption of electric vehicles across the United States is accelerating, transforming the nation’s transportation landscape. As more drivers consider ditching fossil fuels for electricity, the availability of charging stations becomes pivotal—unlike gas stations, chargers aren’t yet ubiquitous. Charging infrastructure is the foundation of this transition; without a reliable, accessible network, widespread EV use simply stalls.\n",
                "\n",
                "This notebook analyzes the EV charging infrastructure across U.S. states, combining charger counts, charger types, and geography with indicators of EV ownership. The goal is to surface where access is strong, where gaps persist, and how infrastructure aligns with adoption.\n",
                "\n",
                "- Coverage: Which states have the highest and lowest concentrations of charging stations?\n",
                "- Density: How does charging infrastructure density vary by state size (e.g., chargers per 100 square miles)?\n",
                "- Accessibility: How does the EVs-per-charger ratio differ by state, and what does it suggest about ease of access?\n",
                "- Technology mix: How are advanced chargers (DC fast chargers) distributed relative to Level 1 and Level 2?\n",
                "- Alignment with adoption: How does infrastructure (counts, density, DCFC share) align with EV ownership levels?\n",
                "\n",
                "After completing this analysis, readers will gain a clear picture of the current state of EV charging deployment across the United States. They will see which regions are best suited for owning an electric vehicle, and understand whether it’s feasible to travel long distances across the country without the risk of being stranded with a depleted battery.\n",
                "\n",
                "---\n",
                "[![Binder](https://mybinder.org/badge_logo.svg)](https://mybinder.org/v2/gh/yoav-es/ev_charging_infra_us/MASTER)\n",
                "\n",
                "\n",
                "## Python libraries\n",
                "This project will use the following Python libraries throughout this analysis:\n",
                "- pandas – for data loading, cleaning, and formatting\n",
                "- numpy – for numerical operations and calculations\n",
                "- matplotlib & seaborn – for creating visualizations and exploring trends\n",
                "\n"
            ]
        },
        {
            "cell_type": "code",
            "execution_count": 3,
            "metadata": {},
            "outputs": [],
            "source": [
                "# Imports\n",
                "import numpy as np\n",
                "import pandas as pd\n",
                "import matplotlib.pyplot as plt\n",
                "import seaborn as sns\n",
                "\n",
                "# Enable inline plotting\n",
                "%matplotlib inline"
            ]
        },
        {
            "cell_type": "markdown",
            "metadata": {},
            "source": [
                "## Data Loading\n",
                "To start our analysis, we’ll load the dataset into a Pandas DataFrame. This will give us a flexible and powerful structure for examining trends, performing calculations, and preparing visualizations."
            ]
        },
        {
            "cell_type": "code",
            "execution_count": 12,
            "metadata": {},
            "outputs": [
                {
                    "name": "stdout",
                    "output_type": "stream",
                    "text": [
                        "number of rows 54 \n",
                        "State                           object\n",
                        "Total Evs                       object\n",
                        "Total Chargers                  object\n",
                        "Ratio: EVs to Charger Ports    float64\n",
                        "Level 1 Chargers                object\n",
                        "Level 2 Chargers                object\n",
                        "DCFC Chargers                   object\n",
                        "Square Mileage of State        float64\n",
                        "Unnamed: 8                     float64\n",
                        "Unnamed: 9                     float64\n",
                        "dtype: object\n",
                        "54\n"
                    ]
                }
            ],
            "source": [
                "def load_data(path):\n",
                "    \"\"\"Load the dataset from a CSV file.\"\"\"\n",
                "    df = pd.read_csv(path)\n",
                "    return df\n",
                "\n",
                "# Load the data\n",
                "column = load_data('ev_chargers_data.csv')\n",
                "column.head()\n",
                "print(f\"number of rows {column.shape[0]} \")\n",
                "print(column.dtypes)\n",
                "print(column.State.nunique())\n"
            ]
        },
        {
            "cell_type": "markdown",
            "metadata": {},
            "source": [
                "## Data Review\n",
                "\n",
                "The EV charging dataset contains **54 rows**, each representing a U.S. state, the District of Columbia, or a U.S. territory, with several attributes describing EV charging infrastructure and usage. These attributes enable analysis of the availability, distribution, and accessibility of charging stations across the country.\n",
                "\n",
                "At the bottom of the CSV file, there are additional rows containing **summary statistics** — *Median*, *Average*, and *Total* — which will be excluded from state‑level analysis but may be useful for high‑level comparisons.\n",
                "\n",
                "**Key variables:**\n",
                "- `State` – Name of the U.S. state, the District of Columbia.  \n",
                "- `Total Evs` – Total number of registered electric vehicles in that state.  \n",
                "- `Total Chargers` - Total number of registered electric vehicles in that state.  \n",
                "- `EV-to-Charger Ratio` – Ratio of EVs to available public charging ports (lower ratios indicate better charger availability).  \n",
                "- `Level 1 Chargers` – Number of public Level 1 charging ports (standard household‑type outlets; slowest charging speed).  \n",
                "- `Level 2 Chargers` – Number of public Level 2 charging ports (240V; faster than Level 1, common in workplaces and public parking).  \n",
                "- `DCFC Chargers` – Number of public DC fast charging ports (high‑power chargers capable of rapidly charging EV batteries).  \n",
                "- `Square Mileage` – Total land area of the state or territory in square miles.  \n",
                "\n",
                "---\n",
                "\n",
                "## Data Cleaning\n",
                "\n",
                "A review of the dataset identified several necessary preprocessing steps:\n",
                "\n",
                "1. **Remove empty columns** – Two columns without titles or data will be dropped.\n",
                "\n",
                "2. **Filter rows** – The dataset includes 54 entries; after removing *Total*, *Average*, and *Median* rows, 51 remain.\n",
                "\n",
                "    The extra entry beyond the 50 states is the **District of Columbia**, a federal district that will be retained for analysis but clearly labeled as such.  \n",
                "\n",
                "3. **Standardize column names** – Convert all headers to lowercase and rename *Chargers, Ratio: EVs to Charger Ports* to a clearer label such as `ev_to_charger_ratio`.  \n",
                "\n",
                "4. **Correct data types** – Convert numeric columns (`total_evs`, `total_chargers`, `level_1_chargers`, `level_2_chargers`, `dcfc_chargers`) \n",
                "\n",
                "    from `object` to `float64` for accurate calculations.  \n",
                "\n",
                "5. **Remove duplicates** – Ensure each record is unique.\n",
                "\n",
                "6. **Handle missing values** – Address nulls through imputation or removal, depending on context. One is missing for the ratio column in the total row. Seems like its missing at random (MAR). \n",
                "\n",
                "7. **Clean text fields** – Normalize formatting (consistent casing, trim whitespace, fix encoding issues). \n",
                "\n",
                "8. **Standardize numerical formats** – Ensure consistent decimal separators and units, remove commas from numbers. \n",
                "\n",
                "9. **Validate data integrity** – Confirm that each column’s data type matches its intended use.  \n",
                "\n",
                "These steps will ensure the dataset is clean, consistent, and ready for accurate analysis."
            ]
        },
        {
            "cell_type": "code",
            "execution_count": null,
            "metadata": {},
            "outputs": [
                {
                    "name": "stdout",
                    "output_type": "stream",
                    "text": [
                        "State                           0\n",
                        "Total Evs                       0\n",
                        "Total Chargers                  0\n",
                        "Ratio: EVs to Charger Ports     1\n",
                        "Level 1 Chargers                0\n",
                        "Level 2 Chargers                0\n",
                        "DCFC Chargers                   0\n",
                        "Square Mileage of State         0\n",
                        "Unnamed: 8                     54\n",
                        "Unnamed: 9                     54\n",
                        "dtype: int64\n",
                        "Data cleaned successfully!\n"
                    ]
                },
                {
                    "name": "stderr",
                    "output_type": "stream",
                    "text": [
                        "C:\\Users\\Yoav\\AppData\\Local\\Temp\\ipykernel_1604\\1246845533.py:9: SettingWithCopyWarning: \n",
                        "A value is trying to be set on a copy of a slice from a DataFrame\n",
                        "\n",
                        "See the caveats in the documentation: https://pandas.pydata.org/pandas-docs/stable/user_guide/indexing.html#returning-a-view-versus-a-copy\n",
                        "  df.drop_duplicates(inplace=True)\n",
                        "C:\\Users\\Yoav\\AppData\\Local\\Temp\\ipykernel_1604\\1246845533.py:15: SettingWithCopyWarning: \n",
                        "A value is trying to be set on a copy of a slice from a DataFrame\n",
                        "\n",
                        "See the caveats in the documentation: https://pandas.pydata.org/pandas-docs/stable/user_guide/indexing.html#returning-a-view-versus-a-copy\n",
                        "  df.rename(columns={\"ratio: evs to charger ports\": \"ev_charger_ratio\"}, inplace=True)\n",
                        "C:\\Users\\Yoav\\AppData\\Local\\Temp\\ipykernel_1604\\1246845533.py:19: SettingWithCopyWarning: \n",
                        "A value is trying to be set on a copy of a slice from a DataFrame.\n",
                        "Try using .loc[row_indexer,col_indexer] = value instead\n",
                        "\n",
                        "See the caveats in the documentation: https://pandas.pydata.org/pandas-docs/stable/user_guide/indexing.html#returning-a-view-versus-a-copy\n",
                        "  df[num_cols] = df[num_cols].replace(',', '', regex=True).apply(pd.to_numeric, errors='coerce')\n",
                        "C:\\Users\\Yoav\\AppData\\Local\\Temp\\ipykernel_1604\\1246845533.py:22: SettingWithCopyWarning: \n",
                        "A value is trying to be set on a copy of a slice from a DataFrame.\n",
                        "Try using .loc[row_indexer,col_indexer] = value instead\n",
                        "\n",
                        "See the caveats in the documentation: https://pandas.pydata.org/pandas-docs/stable/user_guide/indexing.html#returning-a-view-versus-a-copy\n",
                        "  df[\"ev_charger_ratio\"] = df[\"total evs\"] / df[\"total chargers\"]\n",
                        "C:\\Users\\Yoav\\AppData\\Local\\Temp\\ipykernel_1604\\1246845533.py:25: SettingWithCopyWarning: \n",
                        "A value is trying to be set on a copy of a slice from a DataFrame.\n",
                        "Try using .loc[row_indexer,col_indexer] = value instead\n",
                        "\n",
                        "See the caveats in the documentation: https://pandas.pydata.org/pandas-docs/stable/user_guide/indexing.html#returning-a-view-versus-a-copy\n",
                        "  df['is_summary'] = False\n"
                    ]
                }
            ],
            "source": [
                "def clean_data(df):\n",
                "    \"\"\"Clean and format the DataFrame.\"\"\"\n",
                "    print(df.isna().sum())\n",
                "\n",
                "    # Drop empty columns\n",
                "    df = df.dropna(axis=1, how='all')\n",
                "\n",
                "    # Remove duplicates\n",
                "    df.drop_duplicates(inplace=True)\n",
                "\n",
                "    # Standardize column names\n",
                "    df.columns = df.columns.str.lower().str.strip()\n",
                "\n",
                "    # Rename ratio column\n",
                "    df.rename(columns={\"ratio: evs to charger ports\": \"ev_charger_ratio\"}, inplace=True)\n",
                "\n",
                "    # Remove commas and convert numeric columns to float\n",
                "    num_cols = [\"total evs\", \"total chargers\", \"level 1 chargers\", \"level 2 chargers\", \"dcfc chargers\"]\n",
                "    df[num_cols] = df[num_cols].replace(',', '', regex=True).apply(pd.to_numeric, errors='coerce')\n",
                "\n",
                "    # Recalculate ratio\n",
                "    df[\"ev_charger_ratio\"] = df[\"total evs\"] / df[\"total chargers\"]\n",
                "\n",
                "    # Create summary tag \n",
                "    df['is_summary'] = False\n",
                "\n",
                "    # Tag summary lines for filtering\n",
                "    df.loc[df['state'].isin(['Total', 'Average', 'Median']), 'is_summary'] = True\n",
                "\n",
                "\n",
                "    # Optional: validate dtypes\n",
                "    assert 'object' not in df.dtypes[1:], \"Non-numeric dtype found in numeric columns\"\n",
                "    assert not df.isna().any().any(), \"DataFrame contains missing values\"\n",
                "    \n",
                "    return df\n",
                "# Clean the data\n",
                "column = clean_data(column)\n",
                "print('Data cleaned successfully!')\n"
            ]
        },
        {
            "cell_type": "markdown",
            "metadata": {},
            "source": [
                "## Exploratory Data Analysis (EDA)\n",
                "\n",
                "With the dataset cleaned and its structure reviewed, the next step is to explore its contents to uncover patterns and insights.\n"
            ]
        },
        {
            "cell_type": "code",
            "execution_count": null,
            "metadata": {},
            "outputs": [],
            "source": [
                "def explore_data(df):\n",
                "    \"\"\"Perform exploratory data analysis.\"\"\"\n",
                "    mean = np.mean(column)\n",
                "    median = np.median(column)\n",
                "    max =  np.max(column)\n",
                "    min = np.min(column)\n",
                "    zeros = np.zeros.df(column)\n",
                "    sd_var = np.std(column)\n",
                "\n",
                "    sns.histplot(data=df,x='column')\n",
                "    return [mean, median, max, min, zeros, sd_var]\n",
                "\n"
            ]
        },
        {
            "cell_type": "markdown",
            "metadata": {},
            "source": [
                "## Data Analysis\n",
                "\n",
                "This stage focuses on investigating patterns, relationships, and trends in the prepared dataset to answer the defined questions or objectives.\n",
                "\n",
                "Common steps may include:\n",
                "- **Identifying correlations** between numerical variables.\n",
                "- **Comparing groups** or categories to detect differences or trends.\n",
                "- **Exploring relationships** through scatter plots, cross‑tabulations, or statistical tests.\n",
                "- **Feature engineering** to create new variables that may improve insights.\n",
                "- **Segmentation or clustering** to group similar observations.\n",
                "- **Predictive modeling** to forecast outcomes, when relevant.\n",
                "\n",
                "Analysis techniques should be chosen based on:\n",
                "- The nature of the data (categorical, numerical, time‑series, text, etc.).\n",
                "- The goals defined in the Introduction & Scope section.\n",
                "- Any constraints or assumptions identified earlier.\n",
                "\n",
                "Findings from this stage should directly inform conclusions or recommendations in the final section of the notebook."
            ]
        },
        {
            "cell_type": "code",
            "execution_count": null,
            "metadata": {},
            "outputs": [],
            "source": [
                "# def analyze_data(df):\n",
                "#     \"\"\"Conduct a preliminary analysis on the data.\"\"\"\n",
                "#     if 'scientific_name' in df.columns and 'observations' in df.columns:\n",
                "#         obs_counts = df.groupby('scientific_name')['observations'].sum().reset_index()\n",
                "#         sorted_obs = obs_counts.sort_values(by='observations', ascending=False)\n",
                "#         print(\"Summarized Observations:\")\n",
                "#         print(sorted_obs)\n",
                "#     else:\n",
                "#         print(\"Columns 'scientific_name' and/or 'observations' not found in the data.\")\n",
                "\n",
                "# analyze_data(df)"
            ]
        },
        {
            "cell_type": "markdown",
            "metadata": {},
            "source": [
                "## Conclusions\n",
                "\n",
                "This section summarizes the key findings from the analysis, highlighting patterns, relationships, or insights that directly address the project’s initial objectives.  \n",
                "\n",
                "Typical elements include:\n",
                "- **Restating the goals** and how the analysis addressed them.\n",
                "- **Highlighting main discoveries** supported by the data.\n",
                "- **Noting limitations** of the analysis, such as data quality, sample size, or scope constraints.\n",
                "- **Suggesting next steps** for deeper investigation or practical application.\n",
                "- **Potential implications** for decision‑making, policy, or further research.\n",
                "\n",
                "Conclusions should focus on actionable takeaways and avoid repeating every detail of the analysis — instead, emphasize the most significant results and their relevance."
            ]
        }
    ],
    "metadata": {
        "kernelspec": {
            "display_name": "Python 3",
            "language": "python",
            "name": "python3"
        },
        "language_info": {
            "codemirror_mode": {
                "name": "ipython",
                "version": 3
            },
            "file_extension": ".py",
            "mimetype": "text/x-python",
            "name": "python",
            "nbconvert_exporter": "python",
            "pygments_lexer": "ipython3",
            "version": "3.13.7"
        }
    },
    "nbformat": 4,
    "nbformat_minor": 2
}
